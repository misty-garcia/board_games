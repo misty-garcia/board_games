{
 "cells": [
  {
   "cell_type": "markdown",
   "metadata": {},
   "source": [
    "# Board games are awesome!\n",
    "And we're going to find out the most awesome of qualities "
   ]
  },
  {
   "cell_type": "markdown",
   "metadata": {},
   "source": [
    "## Hypothesises"
   ]
  },
  {
   "cell_type": "markdown",
   "metadata": {},
   "source": [
    "- There will be an optimal complexity level. Folks don't want a game that is too simple or too difficult. \n",
    "- Games are under three hours will be more popular.\n",
    "- People will put value on designers and there will be top ones.  \n",
    "- It will be very difficult to predict the quality of a board game. While I believe there will be popular mechanics, I don't think there is a magic formula for a perfect board game, as it overall requires a balance. So many combinations of attributes will be seen amongst the top games. "
   ]
  },
  {
   "cell_type": "code",
   "execution_count": 1,
   "metadata": {},
   "outputs": [],
   "source": [
    "#data wrangle\n",
    "import pandas as pd\n",
    "import numpy as np\n",
    "import nltk\n",
    "import json\n",
    "\n",
    "#visualize\n",
    "import matplotlib.pyplot as plt\n",
    "import seaborn as sns\n",
    "\n",
    "#py funtions\n",
    "import acquire\n",
    "import prepare\n",
    "import explore\n",
    "import features\n",
    "import model\n",
    "\n",
    "#sklearn libraries\n",
    "from sklearn.model_selection import train_test_split\n",
    "from sklearn.preprocessing import MultiLabelBinarizer\n",
    "\n",
    "#filter warnings\n",
    "import warnings\n",
    "warnings.filterwarnings('ignore')"
   ]
  },
  {
   "cell_type": "markdown",
   "metadata": {},
   "source": [
    "## Acquire"
   ]
  },
  {
   "cell_type": "markdown",
   "metadata": {},
   "source": [
    "The dataset was created by webscrapping BoardGameGeek.com. The top 2000 games and their respective attributes were pulled from the api and saved as a json file, which is linked in the readme. The `acquire.get_games` function checks to see if the json files already exist. If they do not, the dataset is repulled. "
   ]
  },
  {
   "cell_type": "code",
   "execution_count": 2,
   "metadata": {},
   "outputs": [
    {
     "name": "stdout",
     "output_type": "stream",
     "text": [
      "data1.txt already exists\n",
      "data2.txt already exists\n"
     ]
    }
   ],
   "source": [
    "acquire.get_games()"
   ]
  },
  {
   "cell_type": "markdown",
   "metadata": {},
   "source": [
    "Since the files already exits, open the json files and save them as a dataframe."
   ]
  },
  {
   "cell_type": "code",
   "execution_count": 3,
   "metadata": {},
   "outputs": [],
   "source": [
    "with open('data1.txt') as f:\n",
    "    data1 = json.load(f)\n",
    "    data1 = pd.DataFrame(data1)\n",
    "    \n",
    "with open('data2.txt') as f:\n",
    "    data2 = json.load(f)\n",
    "    data2 = pd.DataFrame(data2)"
   ]
  },
  {
   "cell_type": "code",
   "execution_count": 4,
   "metadata": {},
   "outputs": [],
   "source": [
    "# combine the two files together\n",
    "df = pd.concat([data1,data2])"
   ]
  },
  {
   "cell_type": "code",
   "execution_count": 5,
   "metadata": {
    "scrolled": false
   },
   "outputs": [
    {
     "name": "stdout",
     "output_type": "stream",
     "text": [
      "<class 'pandas.core.frame.DataFrame'>\n",
      "Int64Index: 2000 entries, 0 to 999\n",
      "Data columns (total 17 columns):\n",
      "name_clean     2000 non-null object\n",
      "rank           2000 non-null object\n",
      "name           2000 non-null object\n",
      "year           2000 non-null object\n",
      "min_players    2000 non-null object\n",
      "max_players    2000 non-null object\n",
      "min_time       2000 non-null object\n",
      "max_time       2000 non-null object\n",
      "designer       2000 non-null object\n",
      "category       2000 non-null object\n",
      "mechanic       2000 non-null object\n",
      "publisher      2000 non-null object\n",
      "description    2000 non-null object\n",
      "num_votes      2000 non-null object\n",
      "avg_rating     2000 non-null object\n",
      "geek_rating    2000 non-null object\n",
      "complexity     2000 non-null object\n",
      "dtypes: object(17)\n",
      "memory usage: 281.2+ KB\n"
     ]
    },
    {
     "data": {
      "text/html": [
       "<div>\n",
       "<style scoped>\n",
       "    .dataframe tbody tr th:only-of-type {\n",
       "        vertical-align: middle;\n",
       "    }\n",
       "\n",
       "    .dataframe tbody tr th {\n",
       "        vertical-align: top;\n",
       "    }\n",
       "\n",
       "    .dataframe thead th {\n",
       "        text-align: right;\n",
       "    }\n",
       "</style>\n",
       "<table border=\"1\" class=\"dataframe\">\n",
       "  <thead>\n",
       "    <tr style=\"text-align: right;\">\n",
       "      <th></th>\n",
       "      <th>name_clean</th>\n",
       "      <th>rank</th>\n",
       "      <th>name</th>\n",
       "      <th>year</th>\n",
       "      <th>min_players</th>\n",
       "      <th>max_players</th>\n",
       "      <th>min_time</th>\n",
       "      <th>max_time</th>\n",
       "      <th>designer</th>\n",
       "      <th>category</th>\n",
       "      <th>mechanic</th>\n",
       "      <th>publisher</th>\n",
       "      <th>description</th>\n",
       "      <th>num_votes</th>\n",
       "      <th>avg_rating</th>\n",
       "      <th>geek_rating</th>\n",
       "      <th>complexity</th>\n",
       "    </tr>\n",
       "  </thead>\n",
       "  <tbody>\n",
       "    <tr>\n",
       "      <th>0</th>\n",
       "      <td>Gloomhaven</td>\n",
       "      <td>1</td>\n",
       "      <td>Gloomhaven</td>\n",
       "      <td>2017</td>\n",
       "      <td>1</td>\n",
       "      <td>4</td>\n",
       "      <td>60</td>\n",
       "      <td>120</td>\n",
       "      <td>[Isaac Childres]</td>\n",
       "      <td>[Adventure, Exploration, Fantasy, Fighting, Mi...</td>\n",
       "      <td>[Campaign / Battle Card Driven, Cooperative Ga...</td>\n",
       "      <td>[Cephalofair Games, Albi, Asmodee, Feuerland S...</td>\n",
       "      <td>Gloomhaven  is a game of Euro-inspired tactica...</td>\n",
       "      <td>30560</td>\n",
       "      <td>8.85478</td>\n",
       "      <td>8.58519</td>\n",
       "      <td>3.8076</td>\n",
       "    </tr>\n",
       "    <tr>\n",
       "      <th>1</th>\n",
       "      <td>Pandemic Legacy: Season 1</td>\n",
       "      <td>2</td>\n",
       "      <td>Pandemic Legacy: Season 1</td>\n",
       "      <td>2015</td>\n",
       "      <td>2</td>\n",
       "      <td>4</td>\n",
       "      <td>60</td>\n",
       "      <td>60</td>\n",
       "      <td>[Rob Daviau, Matt Leacock]</td>\n",
       "      <td>[Environmental, Medical]</td>\n",
       "      <td>[Action Points, Cooperative Game, Hand Managem...</td>\n",
       "      <td>[Z-Man Games, Inc., Asterion Press, Devir, Fil...</td>\n",
       "      <td>Pandemic Legacy is a co-operative campaign gam...</td>\n",
       "      <td>34334</td>\n",
       "      <td>8.62531</td>\n",
       "      <td>8.47209</td>\n",
       "      <td>2.8304</td>\n",
       "    </tr>\n",
       "    <tr>\n",
       "      <th>2</th>\n",
       "      <td>Terraforming Mars</td>\n",
       "      <td>3</td>\n",
       "      <td>Terraforming Mars</td>\n",
       "      <td>2016</td>\n",
       "      <td>1</td>\n",
       "      <td>5</td>\n",
       "      <td>120</td>\n",
       "      <td>120</td>\n",
       "      <td>[Jacob Fryxelius]</td>\n",
       "      <td>[Economic, Environmental, Industry / Manufactu...</td>\n",
       "      <td>[Card Drafting, End Game Bonuses, Hand Managem...</td>\n",
       "      <td>[FryxGames, Arclight, Fantasmagoria, Ghenos Ga...</td>\n",
       "      <td>In the 2400s, mankind begins to terraform the ...</td>\n",
       "      <td>47320</td>\n",
       "      <td>8.41905</td>\n",
       "      <td>8.26233</td>\n",
       "      <td>3.2325</td>\n",
       "    </tr>\n",
       "    <tr>\n",
       "      <th>3</th>\n",
       "      <td>Through the Ages: A New Story of Civilization</td>\n",
       "      <td>4</td>\n",
       "      <td>Through the Ages: A New Story of Civilization</td>\n",
       "      <td>2015</td>\n",
       "      <td>2</td>\n",
       "      <td>4</td>\n",
       "      <td>120</td>\n",
       "      <td>120</td>\n",
       "      <td>[Vlaada Chvátil]</td>\n",
       "      <td>[Card Game, Civilization, Economic]</td>\n",
       "      <td>[Action Points, Auction/Bidding, Auction: Dutc...</td>\n",
       "      <td>[Czech Games Edition, Cranio Creations, Devir,...</td>\n",
       "      <td>Through the Ages: A New Story of Civilization ...</td>\n",
       "      <td>18034</td>\n",
       "      <td>8.49757</td>\n",
       "      <td>8.23881</td>\n",
       "      <td>4.3839</td>\n",
       "    </tr>\n",
       "    <tr>\n",
       "      <th>4</th>\n",
       "      <td>Brass: Birmingham</td>\n",
       "      <td>5</td>\n",
       "      <td>Brass: Birmingham</td>\n",
       "      <td>2018</td>\n",
       "      <td>2</td>\n",
       "      <td>4</td>\n",
       "      <td>60</td>\n",
       "      <td>120</td>\n",
       "      <td>[Gavan Brown, Matt Tolman, Martin Wallace]</td>\n",
       "      <td>[Economic, Industry / Manufacturing, Transport...</td>\n",
       "      <td>[Hand Management, Income, Loans, Market, Netwo...</td>\n",
       "      <td>[Roxley, BoardM Factory, Conclave Editora, Cro...</td>\n",
       "      <td>Brass: Birmingham is an economic strategy game...</td>\n",
       "      <td>9615</td>\n",
       "      <td>8.62119</td>\n",
       "      <td>8.19448</td>\n",
       "      <td>3.9222</td>\n",
       "    </tr>\n",
       "  </tbody>\n",
       "</table>\n",
       "</div>"
      ],
      "text/plain": [
       "                                      name_clean rank  \\\n",
       "0                                     Gloomhaven    1   \n",
       "1                      Pandemic Legacy: Season 1    2   \n",
       "2                              Terraforming Mars    3   \n",
       "3  Through the Ages: A New Story of Civilization    4   \n",
       "4                              Brass: Birmingham    5   \n",
       "\n",
       "                                            name  year min_players  \\\n",
       "0                                     Gloomhaven  2017           1   \n",
       "1                      Pandemic Legacy: Season 1  2015           2   \n",
       "2                              Terraforming Mars  2016           1   \n",
       "3  Through the Ages: A New Story of Civilization  2015           2   \n",
       "4                              Brass: Birmingham  2018           2   \n",
       "\n",
       "  max_players min_time max_time                                    designer  \\\n",
       "0           4       60      120                            [Isaac Childres]   \n",
       "1           4       60       60                  [Rob Daviau, Matt Leacock]   \n",
       "2           5      120      120                           [Jacob Fryxelius]   \n",
       "3           4      120      120                            [Vlaada Chvátil]   \n",
       "4           4       60      120  [Gavan Brown, Matt Tolman, Martin Wallace]   \n",
       "\n",
       "                                            category  \\\n",
       "0  [Adventure, Exploration, Fantasy, Fighting, Mi...   \n",
       "1                           [Environmental, Medical]   \n",
       "2  [Economic, Environmental, Industry / Manufactu...   \n",
       "3                [Card Game, Civilization, Economic]   \n",
       "4  [Economic, Industry / Manufacturing, Transport...   \n",
       "\n",
       "                                            mechanic  \\\n",
       "0  [Campaign / Battle Card Driven, Cooperative Ga...   \n",
       "1  [Action Points, Cooperative Game, Hand Managem...   \n",
       "2  [Card Drafting, End Game Bonuses, Hand Managem...   \n",
       "3  [Action Points, Auction/Bidding, Auction: Dutc...   \n",
       "4  [Hand Management, Income, Loans, Market, Netwo...   \n",
       "\n",
       "                                           publisher  \\\n",
       "0  [Cephalofair Games, Albi, Asmodee, Feuerland S...   \n",
       "1  [Z-Man Games, Inc., Asterion Press, Devir, Fil...   \n",
       "2  [FryxGames, Arclight, Fantasmagoria, Ghenos Ga...   \n",
       "3  [Czech Games Edition, Cranio Creations, Devir,...   \n",
       "4  [Roxley, BoardM Factory, Conclave Editora, Cro...   \n",
       "\n",
       "                                         description num_votes avg_rating  \\\n",
       "0  Gloomhaven  is a game of Euro-inspired tactica...     30560    8.85478   \n",
       "1  Pandemic Legacy is a co-operative campaign gam...     34334    8.62531   \n",
       "2  In the 2400s, mankind begins to terraform the ...     47320    8.41905   \n",
       "3  Through the Ages: A New Story of Civilization ...     18034    8.49757   \n",
       "4  Brass: Birmingham is an economic strategy game...      9615    8.62119   \n",
       "\n",
       "  geek_rating complexity  \n",
       "0     8.58519     3.8076  \n",
       "1     8.47209     2.8304  \n",
       "2     8.26233     3.2325  \n",
       "3     8.23881     4.3839  \n",
       "4     8.19448     3.9222  "
      ]
     },
     "execution_count": 5,
     "metadata": {},
     "output_type": "execute_result"
    }
   ],
   "source": [
    "# view dataframe\n",
    "df.info()\n",
    "df.head()"
   ]
  },
  {
   "cell_type": "markdown",
   "metadata": {},
   "source": [
    "## Prepare"
   ]
  },
  {
   "cell_type": "markdown",
   "metadata": {},
   "source": [
    "All the columns were pulled as objects, which is not reflective of their actual property. Change to approporiate numeric values."
   ]
  },
  {
   "cell_type": "code",
   "execution_count": 6,
   "metadata": {},
   "outputs": [],
   "source": [
    "df[[\"rank\", \"year\", \"min_players\",\"max_players\", \n",
    "    \"min_time\", \"max_time\", \"num_votes\", \n",
    "    \"avg_rating\", \"geek_rating\", \"complexity\"]] = df[[\"rank\", \"year\", \"min_players\", \"max_players\", \n",
    "                                                      \"min_time\", \"max_time\", \"num_votes\", \n",
    "                                                      \"avg_rating\", \"geek_rating\", \"complexity\"\n",
    "                                                     ]].apply(pd.to_numeric)"
   ]
  },
  {
   "cell_type": "code",
   "execution_count": 7,
   "metadata": {},
   "outputs": [
    {
     "name": "stdout",
     "output_type": "stream",
     "text": [
      "<class 'pandas.core.frame.DataFrame'>\n",
      "Int64Index: 2000 entries, 0 to 999\n",
      "Data columns (total 17 columns):\n",
      "name_clean     2000 non-null object\n",
      "rank           2000 non-null int64\n",
      "name           2000 non-null object\n",
      "year           2000 non-null int64\n",
      "min_players    2000 non-null int64\n",
      "max_players    2000 non-null int64\n",
      "min_time       2000 non-null int64\n",
      "max_time       2000 non-null int64\n",
      "designer       2000 non-null object\n",
      "category       2000 non-null object\n",
      "mechanic       2000 non-null object\n",
      "publisher      2000 non-null object\n",
      "description    2000 non-null object\n",
      "num_votes      2000 non-null int64\n",
      "avg_rating     2000 non-null float64\n",
      "geek_rating    2000 non-null float64\n",
      "complexity     2000 non-null float64\n",
      "dtypes: float64(3), int64(7), object(7)\n",
      "memory usage: 281.2+ KB\n"
     ]
    }
   ],
   "source": [
    "df.info()"
   ]
  },
  {
   "cell_type": "markdown",
   "metadata": {},
   "source": [
    "Since the list of attributes were pulled from two different locations (the browse page and the game's individual api), compare the names from both locations to ensure they match for a sanity check."
   ]
  },
  {
   "cell_type": "code",
   "execution_count": 8,
   "metadata": {},
   "outputs": [
    {
     "data": {
      "text/html": [
       "<div>\n",
       "<style scoped>\n",
       "    .dataframe tbody tr th:only-of-type {\n",
       "        vertical-align: middle;\n",
       "    }\n",
       "\n",
       "    .dataframe tbody tr th {\n",
       "        vertical-align: top;\n",
       "    }\n",
       "\n",
       "    .dataframe thead th {\n",
       "        text-align: right;\n",
       "    }\n",
       "</style>\n",
       "<table border=\"1\" class=\"dataframe\">\n",
       "  <thead>\n",
       "    <tr style=\"text-align: right;\">\n",
       "      <th></th>\n",
       "      <th>name_clean</th>\n",
       "      <th>rank</th>\n",
       "      <th>name</th>\n",
       "      <th>year</th>\n",
       "      <th>min_players</th>\n",
       "      <th>max_players</th>\n",
       "      <th>min_time</th>\n",
       "      <th>max_time</th>\n",
       "      <th>designer</th>\n",
       "      <th>category</th>\n",
       "      <th>mechanic</th>\n",
       "      <th>publisher</th>\n",
       "      <th>description</th>\n",
       "      <th>num_votes</th>\n",
       "      <th>avg_rating</th>\n",
       "      <th>geek_rating</th>\n",
       "      <th>complexity</th>\n",
       "    </tr>\n",
       "  </thead>\n",
       "  <tbody>\n",
       "    <tr>\n",
       "      <th>100</th>\n",
       "      <td>War of the Ring (First Edition)</td>\n",
       "      <td>101</td>\n",
       "      <td>War of the Ring</td>\n",
       "      <td>2004</td>\n",
       "      <td>2</td>\n",
       "      <td>4</td>\n",
       "      <td>120</td>\n",
       "      <td>120</td>\n",
       "      <td>[Roberto Di Meglio, Marco Maggi, Francesco Nep...</td>\n",
       "      <td>[Adventure, Fantasy, Miniatures, Novel-based, ...</td>\n",
       "      <td>[Action Points, Area Majority / Influence, Are...</td>\n",
       "      <td>[Ares Games, Asmodee, Devir, Fantasy Flight Ga...</td>\n",
       "      <td>In War of the Ring, one player takes control o...</td>\n",
       "      <td>9592</td>\n",
       "      <td>7.77432</td>\n",
       "      <td>7.45471</td>\n",
       "      <td>3.8417</td>\n",
       "    </tr>\n",
       "    <tr>\n",
       "      <th>406</th>\n",
       "      <td>\\nCarrom\\n</td>\n",
       "      <td>1407</td>\n",
       "      <td>Carrom</td>\n",
       "      <td>0</td>\n",
       "      <td>2</td>\n",
       "      <td>4</td>\n",
       "      <td>60</td>\n",
       "      <td>60</td>\n",
       "      <td>[(Uncredited)]</td>\n",
       "      <td>[Action / Dexterity]</td>\n",
       "      <td>[Flicking, Team-Based Game]</td>\n",
       "      <td>[(Public Domain), (Unknown), ABRA, ASS Altenbu...</td>\n",
       "      <td>Carrom is most easily described as &amp;quot;finge...</td>\n",
       "      <td>1471</td>\n",
       "      <td>7.00333</td>\n",
       "      <td>6.28100</td>\n",
       "      <td>1.4874</td>\n",
       "    </tr>\n",
       "  </tbody>\n",
       "</table>\n",
       "</div>"
      ],
      "text/plain": [
       "                          name_clean  rank             name  year  \\\n",
       "100  War of the Ring (First Edition)   101  War of the Ring  2004   \n",
       "406                       \\nCarrom\\n  1407           Carrom     0   \n",
       "\n",
       "     min_players  max_players  min_time  max_time  \\\n",
       "100            2            4       120       120   \n",
       "406            2            4        60        60   \n",
       "\n",
       "                                              designer  \\\n",
       "100  [Roberto Di Meglio, Marco Maggi, Francesco Nep...   \n",
       "406                                     [(Uncredited)]   \n",
       "\n",
       "                                              category  \\\n",
       "100  [Adventure, Fantasy, Miniatures, Novel-based, ...   \n",
       "406                               [Action / Dexterity]   \n",
       "\n",
       "                                              mechanic  \\\n",
       "100  [Action Points, Area Majority / Influence, Are...   \n",
       "406                        [Flicking, Team-Based Game]   \n",
       "\n",
       "                                             publisher  \\\n",
       "100  [Ares Games, Asmodee, Devir, Fantasy Flight Ga...   \n",
       "406  [(Public Domain), (Unknown), ABRA, ASS Altenbu...   \n",
       "\n",
       "                                           description  num_votes  avg_rating  \\\n",
       "100  In War of the Ring, one player takes control o...       9592     7.77432   \n",
       "406  Carrom is most easily described as &quot;finge...       1471     7.00333   \n",
       "\n",
       "     geek_rating  complexity  \n",
       "100      7.45471      3.8417  \n",
       "406      6.28100      1.4874  "
      ]
     },
     "execution_count": 8,
     "metadata": {},
     "output_type": "execute_result"
    }
   ],
   "source": [
    "df [df.name_clean != df.name]"
   ]
  },
  {
   "cell_type": "markdown",
   "metadata": {},
   "source": [
    "> Yay! All the names match. There is just some slight differences on name formatting. For Carrom, the name column should be retained. The War of the Ring (First Edition) will be retained, as it is more descriptive.  "
   ]
  },
  {
   "cell_type": "code",
   "execution_count": 9,
   "metadata": {},
   "outputs": [],
   "source": [
    "# replace War of the Ring \"name\" with \"name_clean\"\n",
    "df.name.iloc[100] = df.name_clean.iloc[100]\n",
    "\n",
    "# drop \"name_clean\" column\n",
    "df.drop('name_clean', axis=1, inplace=True)\n",
    "\n",
    "# move the \"name\" column to the beginning\n",
    "df.insert(0,'name',df.pop(\"name\"))"
   ]
  },
  {
   "cell_type": "code",
   "execution_count": 10,
   "metadata": {},
   "outputs": [
    {
     "data": {
      "text/html": [
       "<div>\n",
       "<style scoped>\n",
       "    .dataframe tbody tr th:only-of-type {\n",
       "        vertical-align: middle;\n",
       "    }\n",
       "\n",
       "    .dataframe tbody tr th {\n",
       "        vertical-align: top;\n",
       "    }\n",
       "\n",
       "    .dataframe thead th {\n",
       "        text-align: right;\n",
       "    }\n",
       "</style>\n",
       "<table border=\"1\" class=\"dataframe\">\n",
       "  <thead>\n",
       "    <tr style=\"text-align: right;\">\n",
       "      <th></th>\n",
       "      <th>name</th>\n",
       "      <th>rank</th>\n",
       "      <th>year</th>\n",
       "      <th>min_players</th>\n",
       "      <th>max_players</th>\n",
       "      <th>min_time</th>\n",
       "      <th>max_time</th>\n",
       "      <th>designer</th>\n",
       "      <th>category</th>\n",
       "      <th>mechanic</th>\n",
       "      <th>publisher</th>\n",
       "      <th>description</th>\n",
       "      <th>num_votes</th>\n",
       "      <th>avg_rating</th>\n",
       "      <th>geek_rating</th>\n",
       "      <th>complexity</th>\n",
       "    </tr>\n",
       "  </thead>\n",
       "  <tbody>\n",
       "    <tr>\n",
       "      <th>0</th>\n",
       "      <td>Gloomhaven</td>\n",
       "      <td>1</td>\n",
       "      <td>2017</td>\n",
       "      <td>1</td>\n",
       "      <td>4</td>\n",
       "      <td>60</td>\n",
       "      <td>120</td>\n",
       "      <td>[Isaac Childres]</td>\n",
       "      <td>[Adventure, Exploration, Fantasy, Fighting, Mi...</td>\n",
       "      <td>[Campaign / Battle Card Driven, Cooperative Ga...</td>\n",
       "      <td>[Cephalofair Games, Albi, Asmodee, Feuerland S...</td>\n",
       "      <td>Gloomhaven  is a game of Euro-inspired tactica...</td>\n",
       "      <td>30560</td>\n",
       "      <td>8.85478</td>\n",
       "      <td>8.58519</td>\n",
       "      <td>3.8076</td>\n",
       "    </tr>\n",
       "    <tr>\n",
       "      <th>1</th>\n",
       "      <td>Pandemic Legacy: Season 1</td>\n",
       "      <td>2</td>\n",
       "      <td>2015</td>\n",
       "      <td>2</td>\n",
       "      <td>4</td>\n",
       "      <td>60</td>\n",
       "      <td>60</td>\n",
       "      <td>[Rob Daviau, Matt Leacock]</td>\n",
       "      <td>[Environmental, Medical]</td>\n",
       "      <td>[Action Points, Cooperative Game, Hand Managem...</td>\n",
       "      <td>[Z-Man Games, Inc., Asterion Press, Devir, Fil...</td>\n",
       "      <td>Pandemic Legacy is a co-operative campaign gam...</td>\n",
       "      <td>34334</td>\n",
       "      <td>8.62531</td>\n",
       "      <td>8.47209</td>\n",
       "      <td>2.8304</td>\n",
       "    </tr>\n",
       "    <tr>\n",
       "      <th>2</th>\n",
       "      <td>Terraforming Mars</td>\n",
       "      <td>3</td>\n",
       "      <td>2016</td>\n",
       "      <td>1</td>\n",
       "      <td>5</td>\n",
       "      <td>120</td>\n",
       "      <td>120</td>\n",
       "      <td>[Jacob Fryxelius]</td>\n",
       "      <td>[Economic, Environmental, Industry / Manufactu...</td>\n",
       "      <td>[Card Drafting, End Game Bonuses, Hand Managem...</td>\n",
       "      <td>[FryxGames, Arclight, Fantasmagoria, Ghenos Ga...</td>\n",
       "      <td>In the 2400s, mankind begins to terraform the ...</td>\n",
       "      <td>47320</td>\n",
       "      <td>8.41905</td>\n",
       "      <td>8.26233</td>\n",
       "      <td>3.2325</td>\n",
       "    </tr>\n",
       "    <tr>\n",
       "      <th>3</th>\n",
       "      <td>Through the Ages: A New Story of Civilization</td>\n",
       "      <td>4</td>\n",
       "      <td>2015</td>\n",
       "      <td>2</td>\n",
       "      <td>4</td>\n",
       "      <td>120</td>\n",
       "      <td>120</td>\n",
       "      <td>[Vlaada Chvátil]</td>\n",
       "      <td>[Card Game, Civilization, Economic]</td>\n",
       "      <td>[Action Points, Auction/Bidding, Auction: Dutc...</td>\n",
       "      <td>[Czech Games Edition, Cranio Creations, Devir,...</td>\n",
       "      <td>Through the Ages: A New Story of Civilization ...</td>\n",
       "      <td>18034</td>\n",
       "      <td>8.49757</td>\n",
       "      <td>8.23881</td>\n",
       "      <td>4.3839</td>\n",
       "    </tr>\n",
       "    <tr>\n",
       "      <th>4</th>\n",
       "      <td>Brass: Birmingham</td>\n",
       "      <td>5</td>\n",
       "      <td>2018</td>\n",
       "      <td>2</td>\n",
       "      <td>4</td>\n",
       "      <td>60</td>\n",
       "      <td>120</td>\n",
       "      <td>[Gavan Brown, Matt Tolman, Martin Wallace]</td>\n",
       "      <td>[Economic, Industry / Manufacturing, Transport...</td>\n",
       "      <td>[Hand Management, Income, Loans, Market, Netwo...</td>\n",
       "      <td>[Roxley, BoardM Factory, Conclave Editora, Cro...</td>\n",
       "      <td>Brass: Birmingham is an economic strategy game...</td>\n",
       "      <td>9615</td>\n",
       "      <td>8.62119</td>\n",
       "      <td>8.19448</td>\n",
       "      <td>3.9222</td>\n",
       "    </tr>\n",
       "  </tbody>\n",
       "</table>\n",
       "</div>"
      ],
      "text/plain": [
       "                                            name  rank  year  min_players  \\\n",
       "0                                     Gloomhaven     1  2017            1   \n",
       "1                      Pandemic Legacy: Season 1     2  2015            2   \n",
       "2                              Terraforming Mars     3  2016            1   \n",
       "3  Through the Ages: A New Story of Civilization     4  2015            2   \n",
       "4                              Brass: Birmingham     5  2018            2   \n",
       "\n",
       "   max_players  min_time  max_time  \\\n",
       "0            4        60       120   \n",
       "1            4        60        60   \n",
       "2            5       120       120   \n",
       "3            4       120       120   \n",
       "4            4        60       120   \n",
       "\n",
       "                                     designer  \\\n",
       "0                            [Isaac Childres]   \n",
       "1                  [Rob Daviau, Matt Leacock]   \n",
       "2                           [Jacob Fryxelius]   \n",
       "3                            [Vlaada Chvátil]   \n",
       "4  [Gavan Brown, Matt Tolman, Martin Wallace]   \n",
       "\n",
       "                                            category  \\\n",
       "0  [Adventure, Exploration, Fantasy, Fighting, Mi...   \n",
       "1                           [Environmental, Medical]   \n",
       "2  [Economic, Environmental, Industry / Manufactu...   \n",
       "3                [Card Game, Civilization, Economic]   \n",
       "4  [Economic, Industry / Manufacturing, Transport...   \n",
       "\n",
       "                                            mechanic  \\\n",
       "0  [Campaign / Battle Card Driven, Cooperative Ga...   \n",
       "1  [Action Points, Cooperative Game, Hand Managem...   \n",
       "2  [Card Drafting, End Game Bonuses, Hand Managem...   \n",
       "3  [Action Points, Auction/Bidding, Auction: Dutc...   \n",
       "4  [Hand Management, Income, Loans, Market, Netwo...   \n",
       "\n",
       "                                           publisher  \\\n",
       "0  [Cephalofair Games, Albi, Asmodee, Feuerland S...   \n",
       "1  [Z-Man Games, Inc., Asterion Press, Devir, Fil...   \n",
       "2  [FryxGames, Arclight, Fantasmagoria, Ghenos Ga...   \n",
       "3  [Czech Games Edition, Cranio Creations, Devir,...   \n",
       "4  [Roxley, BoardM Factory, Conclave Editora, Cro...   \n",
       "\n",
       "                                         description  num_votes  avg_rating  \\\n",
       "0  Gloomhaven  is a game of Euro-inspired tactica...      30560     8.85478   \n",
       "1  Pandemic Legacy is a co-operative campaign gam...      34334     8.62531   \n",
       "2  In the 2400s, mankind begins to terraform the ...      47320     8.41905   \n",
       "3  Through the Ages: A New Story of Civilization ...      18034     8.49757   \n",
       "4  Brass: Birmingham is an economic strategy game...       9615     8.62119   \n",
       "\n",
       "   geek_rating  complexity  \n",
       "0      8.58519      3.8076  \n",
       "1      8.47209      2.8304  \n",
       "2      8.26233      3.2325  \n",
       "3      8.23881      4.3839  \n",
       "4      8.19448      3.9222  "
      ]
     },
     "execution_count": 10,
     "metadata": {},
     "output_type": "execute_result"
    }
   ],
   "source": [
    "df.head()"
   ]
  },
  {
   "cell_type": "code",
   "execution_count": 11,
   "metadata": {},
   "outputs": [
    {
     "name": "stdout",
     "output_type": "stream",
     "text": [
      "There are 2000 games in the dataset. There are 1994 unique games in the datasets.\n"
     ]
    }
   ],
   "source": [
    "print(f'There are {len(df)} games in the dataset. There are {df.name.nunique()} unique games in the datasets.')"
   ]
  },
  {
   "cell_type": "markdown",
   "metadata": {},
   "source": [
    "> These values should match and they do not. Investigate further. "
   ]
  },
  {
   "cell_type": "code",
   "execution_count": 12,
   "metadata": {
    "scrolled": false
   },
   "outputs": [
    {
     "data": {
      "text/html": [
       "<div>\n",
       "<style scoped>\n",
       "    .dataframe tbody tr th:only-of-type {\n",
       "        vertical-align: middle;\n",
       "    }\n",
       "\n",
       "    .dataframe tbody tr th {\n",
       "        vertical-align: top;\n",
       "    }\n",
       "\n",
       "    .dataframe thead th {\n",
       "        text-align: right;\n",
       "    }\n",
       "</style>\n",
       "<table border=\"1\" class=\"dataframe\">\n",
       "  <thead>\n",
       "    <tr style=\"text-align: right;\">\n",
       "      <th></th>\n",
       "      <th>name</th>\n",
       "      <th>rank</th>\n",
       "      <th>year</th>\n",
       "      <th>min_players</th>\n",
       "      <th>max_players</th>\n",
       "      <th>min_time</th>\n",
       "      <th>max_time</th>\n",
       "      <th>designer</th>\n",
       "      <th>category</th>\n",
       "      <th>mechanic</th>\n",
       "      <th>publisher</th>\n",
       "      <th>description</th>\n",
       "      <th>num_votes</th>\n",
       "      <th>avg_rating</th>\n",
       "      <th>geek_rating</th>\n",
       "      <th>complexity</th>\n",
       "    </tr>\n",
       "  </thead>\n",
       "  <tbody>\n",
       "    <tr>\n",
       "      <th>206</th>\n",
       "      <td>Axis &amp; Allies</td>\n",
       "      <td>1207</td>\n",
       "      <td>2004</td>\n",
       "      <td>2</td>\n",
       "      <td>5</td>\n",
       "      <td>240</td>\n",
       "      <td>240</td>\n",
       "      <td>[Larry Harris, Jr., Mike Selinker]</td>\n",
       "      <td>[Economic, Wargame, World War II]</td>\n",
       "      <td>[Area Movement, Dice Rolling, Team-Based Game]</td>\n",
       "      <td>[Avalon Hill Games, Inc., Tilsit]</td>\n",
       "      <td>Axis &amp;amp; Allies (2004) aka Axis &amp;amp; Allies...</td>\n",
       "      <td>5654</td>\n",
       "      <td>6.70695</td>\n",
       "      <td>6.36629</td>\n",
       "      <td>3.2083</td>\n",
       "    </tr>\n",
       "    <tr>\n",
       "      <th>330</th>\n",
       "      <td>Axis &amp; Allies</td>\n",
       "      <td>1331</td>\n",
       "      <td>1981</td>\n",
       "      <td>2</td>\n",
       "      <td>5</td>\n",
       "      <td>180</td>\n",
       "      <td>180</td>\n",
       "      <td>[Larry Harris, Jr.]</td>\n",
       "      <td>[Economic, Wargame, World War II]</td>\n",
       "      <td>[Area Movement, Dice Rolling, Minimap Resoluti...</td>\n",
       "      <td>[Jedko Games, Milton Bradley, Nova Game Design...</td>\n",
       "      <td>Axis and Allies is the most successful of Milt...</td>\n",
       "      <td>9860</td>\n",
       "      <td>6.56039</td>\n",
       "      <td>6.30784</td>\n",
       "      <td>3.0414</td>\n",
       "    </tr>\n",
       "    <tr>\n",
       "      <th>370</th>\n",
       "      <td>Citadels</td>\n",
       "      <td>371</td>\n",
       "      <td>2000</td>\n",
       "      <td>2</td>\n",
       "      <td>8</td>\n",
       "      <td>20</td>\n",
       "      <td>60</td>\n",
       "      <td>[Bruno Faidutti]</td>\n",
       "      <td>[Bluffing, Card Game, City Building, Deduction...</td>\n",
       "      <td>[Action Drafting, Card Drafting, Set Collectio...</td>\n",
       "      <td>[Hans im Glück, (Unknown), 999 Games, Arclight...</td>\n",
       "      <td>In Citadels, players take on new roles each ro...</td>\n",
       "      <td>45189</td>\n",
       "      <td>7.09306</td>\n",
       "      <td>6.99229</td>\n",
       "      <td>2.0554</td>\n",
       "    </tr>\n",
       "    <tr>\n",
       "      <th>479</th>\n",
       "      <td>Citadels</td>\n",
       "      <td>480</td>\n",
       "      <td>2016</td>\n",
       "      <td>2</td>\n",
       "      <td>8</td>\n",
       "      <td>30</td>\n",
       "      <td>60</td>\n",
       "      <td>[Bruno Faidutti]</td>\n",
       "      <td>[Bluffing, Card Game, City Building, Fantasy, ...</td>\n",
       "      <td>[Card Drafting, Set Collection, Turn Order: Ro...</td>\n",
       "      <td>[(Unknown), 999 Games, Asmodee, Delta Vision P...</td>\n",
       "      <td>In Citadels, players take on new roles each ro...</td>\n",
       "      <td>4917</td>\n",
       "      <td>7.34709</td>\n",
       "      <td>6.87639</td>\n",
       "      <td>2.0000</td>\n",
       "    </tr>\n",
       "    <tr>\n",
       "      <th>127</th>\n",
       "      <td>Cosmic Encounter</td>\n",
       "      <td>128</td>\n",
       "      <td>2008</td>\n",
       "      <td>3</td>\n",
       "      <td>5</td>\n",
       "      <td>60</td>\n",
       "      <td>120</td>\n",
       "      <td>[Bill Eberle, Jack Kittredge, Bill Norton, Pet...</td>\n",
       "      <td>[Bluffing, Negotiation, Science Fiction, Space...</td>\n",
       "      <td>[Alliances, Auction/Bidding, Hand Management, ...</td>\n",
       "      <td>[Fantasy Flight Games, Arclight, Asterion Pres...</td>\n",
       "      <td>From the Manufacturer&amp;#10;&amp;#10;Build a galacti...</td>\n",
       "      <td>25156</td>\n",
       "      <td>7.54532</td>\n",
       "      <td>7.38523</td>\n",
       "      <td>2.5710</td>\n",
       "    </tr>\n",
       "    <tr>\n",
       "      <th>977</th>\n",
       "      <td>Cosmic Encounter</td>\n",
       "      <td>978</td>\n",
       "      <td>1977</td>\n",
       "      <td>2</td>\n",
       "      <td>6</td>\n",
       "      <td>90</td>\n",
       "      <td>90</td>\n",
       "      <td>[Bill Eberle, Jack Kittredge, Bill Norton, Pet...</td>\n",
       "      <td>[Bluffing, Negotiation, Science Fiction]</td>\n",
       "      <td>[Hand Management, Variable Player Powers]</td>\n",
       "      <td>[Eon, Alga, ASS Altenburger Spielkarten, Desca...</td>\n",
       "      <td>By request of Fantasy Flight Games, Board Game...</td>\n",
       "      <td>3784</td>\n",
       "      <td>6.91563</td>\n",
       "      <td>6.49145</td>\n",
       "      <td>2.3656</td>\n",
       "    </tr>\n",
       "    <tr>\n",
       "      <th>646</th>\n",
       "      <td>Cosmic Encounter</td>\n",
       "      <td>1647</td>\n",
       "      <td>1991</td>\n",
       "      <td>3</td>\n",
       "      <td>6</td>\n",
       "      <td>60</td>\n",
       "      <td>60</td>\n",
       "      <td>[Bill Eberle, Jack Kittredge, Bill Norton, Pet...</td>\n",
       "      <td>[Bluffing, Card Game, Science Fiction]</td>\n",
       "      <td>[Variable Player Powers]</td>\n",
       "      <td>[Hexagames (I), Mayfair Games]</td>\n",
       "      <td>Players represent alien races that are seeking...</td>\n",
       "      <td>957</td>\n",
       "      <td>7.20397</td>\n",
       "      <td>6.18843</td>\n",
       "      <td>2.6230</td>\n",
       "    </tr>\n",
       "    <tr>\n",
       "      <th>258</th>\n",
       "      <td>Dune</td>\n",
       "      <td>259</td>\n",
       "      <td>1979</td>\n",
       "      <td>2</td>\n",
       "      <td>6</td>\n",
       "      <td>60</td>\n",
       "      <td>180</td>\n",
       "      <td>[Bill Eberle, Jack Kittredge, Peter Olotka]</td>\n",
       "      <td>[Bluffing, Fighting, Negotiation, Novel-based,...</td>\n",
       "      <td>[Alliances, Area Majority / Influence, Area Mo...</td>\n",
       "      <td>[The Avalon Hill Game Co, Descartes Editeur, H...</td>\n",
       "      <td>Set thousands of years in the future, Dune the...</td>\n",
       "      <td>5236</td>\n",
       "      <td>7.62304</td>\n",
       "      <td>7.13713</td>\n",
       "      <td>3.4402</td>\n",
       "    </tr>\n",
       "    <tr>\n",
       "      <th>85</th>\n",
       "      <td>Dune</td>\n",
       "      <td>1086</td>\n",
       "      <td>2019</td>\n",
       "      <td>2</td>\n",
       "      <td>6</td>\n",
       "      <td>120</td>\n",
       "      <td>120</td>\n",
       "      <td>[Bill Eberle, Jack Kittredge, Peter Olotka]</td>\n",
       "      <td>[Science Fiction]</td>\n",
       "      <td>[Alliances, Area Majority / Influence, Auction...</td>\n",
       "      <td>[Gale Force Nine, LLC]</td>\n",
       "      <td>Imagine you can control the forces of a noble ...</td>\n",
       "      <td>812</td>\n",
       "      <td>8.37755</td>\n",
       "      <td>6.43483</td>\n",
       "      <td>3.8438</td>\n",
       "    </tr>\n",
       "    <tr>\n",
       "      <th>300</th>\n",
       "      <td>Lord of the Rings: The Confrontation</td>\n",
       "      <td>301</td>\n",
       "      <td>2005</td>\n",
       "      <td>2</td>\n",
       "      <td>2</td>\n",
       "      <td>30</td>\n",
       "      <td>30</td>\n",
       "      <td>[Reiner Knizia, Eric M. Lang, Christian T. Pet...</td>\n",
       "      <td>[Adventure, Bluffing, Deduction, Fantasy, Movi...</td>\n",
       "      <td>[Area Movement, Hand Management, Secret Unit D...</td>\n",
       "      <td>[Edge Entertainment, Fantasy Flight Games, Gal...</td>\n",
       "      <td>This Deluxe Edition of Reiner Knizia&amp;rsquo;s a...</td>\n",
       "      <td>5323</td>\n",
       "      <td>7.48758</td>\n",
       "      <td>7.06918</td>\n",
       "      <td>2.2018</td>\n",
       "    </tr>\n",
       "    <tr>\n",
       "      <th>473</th>\n",
       "      <td>Lord of the Rings: The Confrontation</td>\n",
       "      <td>474</td>\n",
       "      <td>2002</td>\n",
       "      <td>2</td>\n",
       "      <td>2</td>\n",
       "      <td>30</td>\n",
       "      <td>30</td>\n",
       "      <td>[Reiner Knizia]</td>\n",
       "      <td>[Adventure, Bluffing, Deduction, Fantasy, Movi...</td>\n",
       "      <td>[Area Movement, Hand Management, Memory, Secre...</td>\n",
       "      <td>[999 Games, Alga, Fantasy Flight Games, Galakt...</td>\n",
       "      <td>An asymmetrical Stratego-like game themed arou...</td>\n",
       "      <td>6313</td>\n",
       "      <td>7.20215</td>\n",
       "      <td>6.88132</td>\n",
       "      <td>2.1911</td>\n",
       "    </tr>\n",
       "  </tbody>\n",
       "</table>\n",
       "</div>"
      ],
      "text/plain": [
       "                                     name  rank  year  min_players  \\\n",
       "206                         Axis & Allies  1207  2004            2   \n",
       "330                         Axis & Allies  1331  1981            2   \n",
       "370                              Citadels   371  2000            2   \n",
       "479                              Citadels   480  2016            2   \n",
       "127                      Cosmic Encounter   128  2008            3   \n",
       "977                      Cosmic Encounter   978  1977            2   \n",
       "646                      Cosmic Encounter  1647  1991            3   \n",
       "258                                  Dune   259  1979            2   \n",
       "85                                   Dune  1086  2019            2   \n",
       "300  Lord of the Rings: The Confrontation   301  2005            2   \n",
       "473  Lord of the Rings: The Confrontation   474  2002            2   \n",
       "\n",
       "     max_players  min_time  max_time  \\\n",
       "206            5       240       240   \n",
       "330            5       180       180   \n",
       "370            8        20        60   \n",
       "479            8        30        60   \n",
       "127            5        60       120   \n",
       "977            6        90        90   \n",
       "646            6        60        60   \n",
       "258            6        60       180   \n",
       "85             6       120       120   \n",
       "300            2        30        30   \n",
       "473            2        30        30   \n",
       "\n",
       "                                              designer  \\\n",
       "206                 [Larry Harris, Jr., Mike Selinker]   \n",
       "330                                [Larry Harris, Jr.]   \n",
       "370                                   [Bruno Faidutti]   \n",
       "479                                   [Bruno Faidutti]   \n",
       "127  [Bill Eberle, Jack Kittredge, Bill Norton, Pet...   \n",
       "977  [Bill Eberle, Jack Kittredge, Bill Norton, Pet...   \n",
       "646  [Bill Eberle, Jack Kittredge, Bill Norton, Pet...   \n",
       "258        [Bill Eberle, Jack Kittredge, Peter Olotka]   \n",
       "85         [Bill Eberle, Jack Kittredge, Peter Olotka]   \n",
       "300  [Reiner Knizia, Eric M. Lang, Christian T. Pet...   \n",
       "473                                    [Reiner Knizia]   \n",
       "\n",
       "                                              category  \\\n",
       "206                  [Economic, Wargame, World War II]   \n",
       "330                  [Economic, Wargame, World War II]   \n",
       "370  [Bluffing, Card Game, City Building, Deduction...   \n",
       "479  [Bluffing, Card Game, City Building, Fantasy, ...   \n",
       "127  [Bluffing, Negotiation, Science Fiction, Space...   \n",
       "977           [Bluffing, Negotiation, Science Fiction]   \n",
       "646             [Bluffing, Card Game, Science Fiction]   \n",
       "258  [Bluffing, Fighting, Negotiation, Novel-based,...   \n",
       "85                                   [Science Fiction]   \n",
       "300  [Adventure, Bluffing, Deduction, Fantasy, Movi...   \n",
       "473  [Adventure, Bluffing, Deduction, Fantasy, Movi...   \n",
       "\n",
       "                                              mechanic  \\\n",
       "206     [Area Movement, Dice Rolling, Team-Based Game]   \n",
       "330  [Area Movement, Dice Rolling, Minimap Resoluti...   \n",
       "370  [Action Drafting, Card Drafting, Set Collectio...   \n",
       "479  [Card Drafting, Set Collection, Turn Order: Ro...   \n",
       "127  [Alliances, Auction/Bidding, Hand Management, ...   \n",
       "977          [Hand Management, Variable Player Powers]   \n",
       "646                           [Variable Player Powers]   \n",
       "258  [Alliances, Area Majority / Influence, Area Mo...   \n",
       "85   [Alliances, Area Majority / Influence, Auction...   \n",
       "300  [Area Movement, Hand Management, Secret Unit D...   \n",
       "473  [Area Movement, Hand Management, Memory, Secre...   \n",
       "\n",
       "                                             publisher  \\\n",
       "206                  [Avalon Hill Games, Inc., Tilsit]   \n",
       "330  [Jedko Games, Milton Bradley, Nova Game Design...   \n",
       "370  [Hans im Glück, (Unknown), 999 Games, Arclight...   \n",
       "479  [(Unknown), 999 Games, Asmodee, Delta Vision P...   \n",
       "127  [Fantasy Flight Games, Arclight, Asterion Pres...   \n",
       "977  [Eon, Alga, ASS Altenburger Spielkarten, Desca...   \n",
       "646                     [Hexagames (I), Mayfair Games]   \n",
       "258  [The Avalon Hill Game Co, Descartes Editeur, H...   \n",
       "85                              [Gale Force Nine, LLC]   \n",
       "300  [Edge Entertainment, Fantasy Flight Games, Gal...   \n",
       "473  [999 Games, Alga, Fantasy Flight Games, Galakt...   \n",
       "\n",
       "                                           description  num_votes  avg_rating  \\\n",
       "206  Axis &amp; Allies (2004) aka Axis &amp; Allies...       5654     6.70695   \n",
       "330  Axis and Allies is the most successful of Milt...       9860     6.56039   \n",
       "370  In Citadels, players take on new roles each ro...      45189     7.09306   \n",
       "479  In Citadels, players take on new roles each ro...       4917     7.34709   \n",
       "127  From the Manufacturer&#10;&#10;Build a galacti...      25156     7.54532   \n",
       "977  By request of Fantasy Flight Games, Board Game...       3784     6.91563   \n",
       "646  Players represent alien races that are seeking...        957     7.20397   \n",
       "258  Set thousands of years in the future, Dune the...       5236     7.62304   \n",
       "85   Imagine you can control the forces of a noble ...        812     8.37755   \n",
       "300  This Deluxe Edition of Reiner Knizia&rsquo;s a...       5323     7.48758   \n",
       "473  An asymmetrical Stratego-like game themed arou...       6313     7.20215   \n",
       "\n",
       "     geek_rating  complexity  \n",
       "206      6.36629      3.2083  \n",
       "330      6.30784      3.0414  \n",
       "370      6.99229      2.0554  \n",
       "479      6.87639      2.0000  \n",
       "127      7.38523      2.5710  \n",
       "977      6.49145      2.3656  \n",
       "646      6.18843      2.6230  \n",
       "258      7.13713      3.4402  \n",
       "85       6.43483      3.8438  \n",
       "300      7.06918      2.2018  \n",
       "473      6.88132      2.1911  "
      ]
     },
     "execution_count": 12,
     "metadata": {},
     "output_type": "execute_result"
    }
   ],
   "source": [
    "df [df.name.duplicated(keep=False)].sort_values([\"name\", \"rank\"])"
   ]
  },
  {
   "cell_type": "markdown",
   "metadata": {},
   "source": [
    "> Many of these games have repeated names, but different release years and ratings, implying different editions. All of these duplicates will be retained. "
   ]
  },
  {
   "cell_type": "code",
   "execution_count": 13,
   "metadata": {
    "scrolled": true
   },
   "outputs": [
    {
     "data": {
      "text/plain": [
       "0      Gloomhaven  is a game of Euro-inspired tactica...\n",
       "1      Pandemic Legacy is a co-operative campaign gam...\n",
       "2      In the 2400s, mankind begins to terraform the ...\n",
       "3      Through the Ages: A New Story of Civilization ...\n",
       "4      Brass: Birmingham is an economic strategy game...\n",
       "                             ...                        \n",
       "995    Ganymede is a development and tableau-building...\n",
       "996    Although dubbed a game-kit, this 18xx offering...\n",
       "997    Precursor of the Mutant Chronicles miniatures ...\n",
       "998    Cheating is forbidden? Not in this naughty gam...\n",
       "999    Era: Medieval Age serves as the spiritual succ...\n",
       "Name: description, Length: 2000, dtype: object"
      ]
     },
     "execution_count": 13,
     "metadata": {},
     "output_type": "execute_result"
    }
   ],
   "source": [
    "df.description"
   ]
  },
  {
   "cell_type": "markdown",
   "metadata": {},
   "source": [
    "The description will be cleaned up for natural language processing using the following functions.\n",
    "\n",
    "`prepare.basic_clean`\n",
    "- text is lowercased\n",
    "- text is normalizes all special characters\n",
    "- anything that is not a character, number, whitespace or apostrophe is removed\n",
    "- new lines and returns are replaced with a space\n",
    "\n",
    "`prepare.remove_stopwords`\n",
    "- removes stop words found in the standard stopword list\n",
    "- returns string of words\n",
    "\n",
    "`prepare.lemmatize`\n",
    "- lemmatizes applicable words"
   ]
  },
  {
   "cell_type": "code",
   "execution_count": 14,
   "metadata": {},
   "outputs": [],
   "source": [
    "df.description = df.description.apply(prepare.basic_clean).apply(prepare.remove_stopwords).apply(prepare.lemmatize)"
   ]
  },
  {
   "cell_type": "code",
   "execution_count": 15,
   "metadata": {},
   "outputs": [
    {
     "data": {
      "text/plain": [
       "0      gloomhaven game euroinspired tactical combat p...\n",
       "1      pandemic legacy cooperative campaign game over...\n",
       "2      2400s mankind begin terraform planet mar giant...\n",
       "3      age new story civilization new edition age sto...\n",
       "4      brass birmingham economic strategy game sequel...\n",
       "                             ...                        \n",
       "995    ganymede development tableaubuilding game play...\n",
       "996    although dubbed gamekit 18xx offering topnotch...\n",
       "997    precursor mutant chronicle miniature game kiss...\n",
       "998    cheating forbidden naughty game card ndash fac...\n",
       "999    era medieval age serf spiritual successor roll...\n",
       "Name: description, Length: 2000, dtype: object"
      ]
     },
     "execution_count": 15,
     "metadata": {},
     "output_type": "execute_result"
    }
   ],
   "source": [
    "df.description"
   ]
  },
  {
   "cell_type": "markdown",
   "metadata": {},
   "source": [
    "## Explore"
   ]
  },
  {
   "cell_type": "markdown",
   "metadata": {},
   "source": [
    "Investigate the values in each of the columns"
   ]
  },
  {
   "cell_type": "code",
   "execution_count": null,
   "metadata": {
    "scrolled": false
   },
   "outputs": [
    {
     "data": {
      "image/png": "[encoded data removed]",
      "text/plain": [
       "<Figure size 432x288 with 1 Axes>"
      ]
     },
     "metadata": {
      "needs_background": "light"
     },
     "output_type": "display_data"
    }
   ],
   "source": [
    "for col in df.select_dtypes(np.number).columns:\n",
    "    sns.distplot(df[col])\n",
    "    plt.title(f\"The distribution of {col}\")\n",
    "    plt.xlabel(\"\")\n",
    "    plt.show()\n",
    "    print(df[col].value_counts(bins=10, sort=False))"
   ]
  },
  {
   "cell_type": "markdown",
   "metadata": {},
   "source": [
    "> To further investigate:\n",
    "- the difference between geek_rating and avg_rating\n",
    "- board games with years in the negative\n",
    "- what board games have max players over 20 people? sounds like it wouldn't fit on a board\n",
    "- what board game has a minimum time of 6000 minutes?! "
   ]
  },
  {
   "cell_type": "markdown",
   "metadata": {},
   "source": [
    "#### Geek vs average rating"
   ]
  },
  {
   "cell_type": "code",
   "execution_count": null,
   "metadata": {},
   "outputs": [],
   "source": [
    "sns.distplot(df.geek_rating)\n",
    "sns.distplot(df.avg_rating)\n",
    "plt.legend([\"geek rating\", \"average rating\"])\n",
    "plt.show()"
   ]
  },
  {
   "cell_type": "markdown",
   "metadata": {},
   "source": [
    "> It is clearly seen that the geek rating is pulled towards the center. If many more games were pulled, the geek_rating would probably reflect a normalized distribution."
   ]
  },
  {
   "cell_type": "markdown",
   "metadata": {},
   "source": [
    "#### Board games with negative years"
   ]
  },
  {
   "cell_type": "code",
   "execution_count": null,
   "metadata": {},
   "outputs": [],
   "source": [
    "df [df.year < 1400]"
   ]
  },
  {
   "cell_type": "markdown",
   "metadata": {},
   "source": [
    "I thought these were typos. \n",
    "- Go definitely originated in BC time. Documents state origin times between 2000 and 5000 years ago\n",
    "- Research states that backgammon is about 5000 years old\n",
    "- Xiangpi also appears to be in the correct range.\n",
    "- It is unknown when Carrom originated. It became popular in the 19th century, but is believed to have been around much longer. \n",
    "\n",
    "> These dates appear appropriate. However, as outliers, they do skew the data, as I'm interested in analyzing the success of current games. Games older than 1950 will be removed. "
   ]
  },
  {
   "cell_type": "code",
   "execution_count": null,
   "metadata": {},
   "outputs": [],
   "source": [
    "df = df [df.year > 1950]"
   ]
  },
  {
   "cell_type": "code",
   "execution_count": null,
   "metadata": {},
   "outputs": [],
   "source": [
    "df.shape"
   ]
  },
  {
   "cell_type": "markdown",
   "metadata": {},
   "source": [
    "> Twenty games were removed"
   ]
  },
  {
   "cell_type": "code",
   "execution_count": null,
   "metadata": {},
   "outputs": [],
   "source": [
    "sns.distplot(df.year)\n",
    "plt.show()"
   ]
  },
  {
   "cell_type": "markdown",
   "metadata": {},
   "source": [
    "> It is seen that the popularity of board games have definitely spiked in the past twenty years. "
   ]
  },
  {
   "cell_type": "markdown",
   "metadata": {},
   "source": [
    "#### Board games with a high number of max players"
   ]
  },
  {
   "cell_type": "code",
   "execution_count": null,
   "metadata": {},
   "outputs": [],
   "source": [
    "df [df.max_players > 20]"
   ]
  },
  {
   "cell_type": "code",
   "execution_count": null,
   "metadata": {
    "scrolled": false
   },
   "outputs": [],
   "source": [
    "len(df [df.max_players > 20])"
   ]
  },
  {
   "cell_type": "markdown",
   "metadata": {},
   "source": [
    "> There are 10 games that have greater than 20 players. As I define a board game as something that can be played sitting at a table, I consider these high player games to be an outlier and will remove them. "
   ]
  },
  {
   "cell_type": "code",
   "execution_count": null,
   "metadata": {},
   "outputs": [],
   "source": [
    "df = df [df.max_players <= 20]"
   ]
  },
  {
   "cell_type": "code",
   "execution_count": null,
   "metadata": {},
   "outputs": [],
   "source": [
    "df.shape"
   ]
  },
  {
   "cell_type": "markdown",
   "metadata": {},
   "source": [
    "#### Board games with high minimum times "
   ]
  },
  {
   "cell_type": "code",
   "execution_count": null,
   "metadata": {
    "scrolled": false
   },
   "outputs": [],
   "source": [
    "df [df.min_time > 600]"
   ]
  },
  {
   "cell_type": "markdown",
   "metadata": {},
   "source": [
    "> What is 'Empire in Arms' and why would anyone play such a long game? Anything longer than 12 hours is defintely a marathon game and will be excluded from this analysis. "
   ]
  },
  {
   "cell_type": "code",
   "execution_count": null,
   "metadata": {},
   "outputs": [],
   "source": [
    "df = df [df.min_time < 600]"
   ]
  },
  {
   "cell_type": "code",
   "execution_count": null,
   "metadata": {},
   "outputs": [],
   "source": [
    "df.shape"
   ]
  },
  {
   "cell_type": "markdown",
   "metadata": {},
   "source": [
    "> After removing outlier data, there are still 1965 games to investigate. "
   ]
  },
  {
   "cell_type": "code",
   "execution_count": null,
   "metadata": {},
   "outputs": [],
   "source": [
    "# reset index due to missing rows\n",
    "df = df.reset_index().drop(columns='index')"
   ]
  },
  {
   "cell_type": "markdown",
   "metadata": {},
   "source": [
    "#### Feature Engineering"
   ]
  },
  {
   "cell_type": "markdown",
   "metadata": {},
   "source": [
    "How long is each readme? "
   ]
  },
  {
   "cell_type": "code",
   "execution_count": null,
   "metadata": {},
   "outputs": [],
   "source": [
    "explore.description_length(df)"
   ]
  },
  {
   "cell_type": "code",
   "execution_count": null,
   "metadata": {},
   "outputs": [],
   "source": [
    "sns.distplot(df.desc_length)\n",
    "plt.show()"
   ]
  },
  {
   "cell_type": "markdown",
   "metadata": {},
   "source": [
    "#### Correlations"
   ]
  },
  {
   "cell_type": "code",
   "execution_count": null,
   "metadata": {},
   "outputs": [],
   "source": [
    "plt.figure(figsize=(12,9))\n",
    "sns.heatmap(df.corr(), annot=True, cmap=\"copper\")\n",
    "plt.show()"
   ]
  },
  {
   "cell_type": "markdown",
   "metadata": {},
   "source": [
    "Takeaways\n",
    "- The geek_rating and rank have a high correlation, as they should, since the rank is based on the geek_rating. Will have to remove geek_rating.\n",
    "- There is some correlation with the geek_rating and avg_rating and votes. This makes sense as the geek_rating is a weighted value based on the those two features. \n",
    "- There is also some correlation between min_time and max_time, which also makes sense, as games times typically fall into a relatively small range. \n",
    "- There is correlation between the complexity and min time and avg_rating. However, the complexity doesn't affect the geek_rating as much. "
   ]
  },
  {
   "cell_type": "code",
   "execution_count": null,
   "metadata": {},
   "outputs": [],
   "source": [
    "sns.pairplot(df)\n",
    "plt.show()"
   ]
  },
  {
   "cell_type": "markdown",
   "metadata": {},
   "source": [
    "> The overwhelming pairplot. Let's dive into some of the more interesting plots."
   ]
  },
  {
   "cell_type": "code",
   "execution_count": null,
   "metadata": {},
   "outputs": [],
   "source": [
    "sns.scatterplot(data=df, x='year', y='geek_rating',hue='complexity', palette='copper', alpha=.7)\n",
    "plt.title(\"Current games achieve higher ratings\")\n",
    "plt.show()"
   ]
  },
  {
   "cell_type": "markdown",
   "metadata": {},
   "source": [
    "> I believe with the explosion of board games, designers forced to think outside the box, and therefore, getting more creative. This is leading to more originality and more fun, and higher ranked games in the recent years. \n",
    "\n",
    "> Surprisingly, it appears that higher ranked games tend to be more complex."
   ]
  },
  {
   "cell_type": "code",
   "execution_count": null,
   "metadata": {},
   "outputs": [],
   "source": [
    "fig, ax = plt.subplots(1,2, figsize=(12,5), sharey=True, sharex=True)\n",
    "\n",
    "sns.scatterplot(data=df, x='avg_rating', y='complexity', alpha=.5, ax=ax[0])\n",
    "sns.scatterplot(data=df, x='geek_rating', y='complexity', alpha=.5, ax=ax[1])\n",
    "\n",
    "fig.suptitle('How does complexity affect the raw averages vs the weighted averages?')\n",
    "plt.show()"
   ]
  },
  {
   "cell_type": "markdown",
   "metadata": {},
   "source": [
    "> Before the averages are weighted (avg_rating), it is seen that more complex games are consistently rater higher."
   ]
  },
  {
   "cell_type": "code",
   "execution_count": null,
   "metadata": {},
   "outputs": [],
   "source": [
    "fig, ax = plt.subplots(1,2, figsize=(12,5), sharey=True)\n",
    "\n",
    "sns.scatterplot(data=df, y='desc_length', x='complexity', alpha=.5, ax=ax[0])\n",
    "sns.scatterplot(data=df, y='desc_length', x='year', alpha=.5, ax=ax[1])\n",
    "\n",
    "fig.suptitle('How does the description length compare to the complexity and year?')\n",
    "plt.show()"
   ]
  },
  {
   "cell_type": "markdown",
   "metadata": {},
   "source": [
    "> The description length is fairly consistent regardless of complexity or year."
   ]
  },
  {
   "cell_type": "markdown",
   "metadata": {},
   "source": [
    "#### Investigate game times"
   ]
  },
  {
   "cell_type": "code",
   "execution_count": null,
   "metadata": {},
   "outputs": [],
   "source": [
    "df.max_time.agg([\"mean\",\"median\"])"
   ]
  },
  {
   "cell_type": "markdown",
   "metadata": {},
   "source": [
    "> The mean game time of an hour and a half is shorter than I expected"
   ]
  },
  {
   "cell_type": "code",
   "execution_count": null,
   "metadata": {},
   "outputs": [],
   "source": [
    "sns.scatterplot(data=df[(df.geek_rating > 8)], x='max_time', y='geek_rating', alpha=.5)\n",
    "sns.scatterplot(data=df[(df.geek_rating > 7) & (df.geek_rating < 8)], x='max_time', y='geek_rating', alpha=.5)\n",
    "plt.title(\"Max times for higher ranking games\")\n",
    "plt.show()"
   ]
  },
  {
   "cell_type": "code",
   "execution_count": null,
   "metadata": {},
   "outputs": [],
   "source": [
    "df [df.geek_rating > 7].max_time.agg([\"mean\",\"median\"])"
   ]
  },
  {
   "cell_type": "code",
   "execution_count": null,
   "metadata": {},
   "outputs": [],
   "source": [
    "df [df.geek_rating > 8].max_time.agg([\"mean\",\"median\"])"
   ]
  },
  {
   "cell_type": "markdown",
   "metadata": {},
   "source": [
    "> Looking at the top of the top games, it's seen that the average game time increases to over two and a half hours. "
   ]
  },
  {
   "cell_type": "code",
   "execution_count": null,
   "metadata": {},
   "outputs": [],
   "source": [
    "sns.scatterplot(data=df[(df.max_time > 180)], x='max_time', y='geek_rating', alpha=.5)\n",
    "plt.show()"
   ]
  },
  {
   "cell_type": "markdown",
   "metadata": {},
   "source": [
    "> For games over three hours, it is seen that they span all rankings. However, the very high game time are ranked relatively lower."
   ]
  },
  {
   "cell_type": "markdown",
   "metadata": {},
   "source": [
    "#### Most popular designers"
   ]
  },
  {
   "cell_type": "code",
   "execution_count": null,
   "metadata": {},
   "outputs": [],
   "source": [
    "# pull designers out of lists\n",
    "designers = [des for game in df.designer for des in game]\n",
    "des_count = pd.Series(designers).value_counts()\n",
    "\n",
    "# plot the most commonly seen designers\n",
    "plt.figure(figsize=(10,6))\n",
    "des_count.head(20).sort_values().plot.barh()\n",
    "plt.show()"
   ]
  },
  {
   "cell_type": "markdown",
   "metadata": {},
   "source": [
    "> Reiner Knizia is the top designer of board games. Let's look at some of their stats. "
   ]
  },
  {
   "cell_type": "code",
   "execution_count": null,
   "metadata": {},
   "outputs": [],
   "source": [
    "# dataframe with all reiner knizia games\n",
    "df_rknizia = df [df.designer.apply(lambda x: \"Reiner Knizia\" in x)]"
   ]
  },
  {
   "cell_type": "code",
   "execution_count": null,
   "metadata": {},
   "outputs": [],
   "source": [
    "print(\"Reiner Knizia has published {} of the top 2000 games.\".format(len(df_rknizia)))"
   ]
  },
  {
   "cell_type": "code",
   "execution_count": null,
   "metadata": {},
   "outputs": [],
   "source": [
    "categories = [cat for game in df_rknizia.category for cat in game]\n",
    "pd.Series(categories).value_counts().head(20)"
   ]
  },
  {
   "cell_type": "markdown",
   "metadata": {},
   "source": [
    "> Definitely see some reoccurring themes in their work. "
   ]
  },
  {
   "cell_type": "code",
   "execution_count": null,
   "metadata": {},
   "outputs": [],
   "source": [
    "sns.distplot(df_rknizia.year, bins=20)\n",
    "plt.show()"
   ]
  },
  {
   "cell_type": "markdown",
   "metadata": {},
   "source": [
    "> They were making games before the rise in the 2000s, but have continued to be prolific. "
   ]
  },
  {
   "cell_type": "code",
   "execution_count": null,
   "metadata": {},
   "outputs": [],
   "source": [
    "sns.scatterplot(data=df_rknizia, x='year', y=\"geek_rating\")\n",
    "plt.title(\"Knizia games ratings compared to publish year\")\n",
    "plt.show()"
   ]
  },
  {
   "cell_type": "markdown",
   "metadata": {},
   "source": [
    "#### Top ten designer ranking distribution"
   ]
  },
  {
   "cell_type": "code",
   "execution_count": null,
   "metadata": {},
   "outputs": [],
   "source": [
    "top_ten_designer = des_count.head(10).index\n",
    "\n",
    "for des in top_ten_designer:\n",
    "    mask = df.designer.apply(lambda x: des in x)\n",
    "    sns.distplot(df[mask].avg_rating)\n",
    "\n",
    "plt.title(\"Ratings for the ten most popular designers\")\n",
    "plt.show()"
   ]
  },
  {
   "cell_type": "markdown",
   "metadata": {},
   "source": [
    "#### Designer of top game"
   ]
  },
  {
   "cell_type": "code",
   "execution_count": null,
   "metadata": {},
   "outputs": [],
   "source": [
    "df.designer[0]"
   ]
  },
  {
   "cell_type": "code",
   "execution_count": null,
   "metadata": {},
   "outputs": [],
   "source": [
    "# dataframe with all isaac childres games\n",
    "df [df.designer.apply(lambda x: \"Isaac Childres\" in x)]"
   ]
  },
  {
   "cell_type": "markdown",
   "metadata": {},
   "source": [
    "> Isaac Childres is the designer of the top-rated game on bbg. However, only two other of his games have made the top 2000 list and ony of them is an offshoot of his original game. "
   ]
  },
  {
   "cell_type": "markdown",
   "metadata": {},
   "source": [
    "#### Categories"
   ]
  },
  {
   "cell_type": "code",
   "execution_count": null,
   "metadata": {},
   "outputs": [],
   "source": [
    "categories = [cat for game in df.category for cat in game]\n",
    "cat_count = pd.Series(categories).value_counts()\n",
    "\n",
    "plt.figure(figsize=(10,6))\n",
    "cat_count.head(20).sort_values().plot.barh()\n",
    "plt.show()"
   ]
  },
  {
   "cell_type": "markdown",
   "metadata": {},
   "source": [
    "> Us nerds like fantasy and science fiction. Wargame is a classic board game genre. I love when a board game has awesome minatures. Surprised to see 'animals' as a top category. "
   ]
  },
  {
   "cell_type": "markdown",
   "metadata": {},
   "source": [
    "#### Mechanics"
   ]
  },
  {
   "cell_type": "code",
   "execution_count": null,
   "metadata": {},
   "outputs": [],
   "source": [
    "mechanics = [mech for game in df.mechanic for mech in game]\n",
    "mech_count = pd.Series(mechanics).value_counts()\n",
    "\n",
    "plt.figure(figsize=(10,6))\n",
    "mech_count.head(20).sort_values().plot.barh()\n",
    "plt.show()"
   ]
  },
  {
   "cell_type": "code",
   "execution_count": null,
   "metadata": {},
   "outputs": [],
   "source": [
    "mask = df.mechanic.apply(lambda x: \"Hand Management\" in x)\n",
    "len(df[mask])/len(df)"
   ]
  },
  {
   "cell_type": "markdown",
   "metadata": {},
   "source": [
    "> Over a third of all the top games deal with hand management!\n",
    "\n",
    "> Hand Management and Dice Rolling are the top two mechanics. These are standard game mechanics and expected to be at the top. Variable Player Powers and Card Drafting are super fun and glad to see them at the top. "
   ]
  },
  {
   "cell_type": "markdown",
   "metadata": {},
   "source": [
    "#### Description word cloud explosion"
   ]
  },
  {
   "cell_type": "code",
   "execution_count": null,
   "metadata": {},
   "outputs": [],
   "source": [
    "all_words = ' '.join(df.description)"
   ]
  },
  {
   "cell_type": "code",
   "execution_count": null,
   "metadata": {},
   "outputs": [],
   "source": [
    "explore.one_word_one_cloud(all_words, \"all\")"
   ]
  },
  {
   "cell_type": "markdown",
   "metadata": {},
   "source": [
    "> It was seen in both categories and mechanics that card game was a top descriptor. Cards are generally a vital component to creating a game. I'm surprised to see 'tile' and 'city' as top words and am unsure what 'ndash' refers to. "
   ]
  },
  {
   "cell_type": "code",
   "execution_count": null,
   "metadata": {},
   "outputs": [],
   "source": [
    "all_words_bigram = pd.Series(nltk.ngrams(all_words.split(), 2)).value_counts().head(100)"
   ]
  },
  {
   "cell_type": "code",
   "execution_count": null,
   "metadata": {},
   "outputs": [],
   "source": [
    "explore.two_word_one_cloud(all_words_bigram, \"bigrams\")"
   ]
  },
  {
   "cell_type": "markdown",
   "metadata": {},
   "source": [
    "> As many times 'player' is seen in the bigrams, it's suprisingly it's not the top main word. "
   ]
  },
  {
   "cell_type": "code",
   "execution_count": null,
   "metadata": {},
   "outputs": [],
   "source": [
    "all_words_trigram = pd.Series(nltk.ngrams(all_words.split(), 3)).value_counts().head(30)"
   ]
  },
  {
   "cell_type": "code",
   "execution_count": null,
   "metadata": {},
   "outputs": [],
   "source": [
    "explore.three_word_one_cloud(all_words_trigram, \"trigrams\")"
   ]
  },
  {
   "cell_type": "markdown",
   "metadata": {},
   "source": [
    "> The 10s in the word clouds are apart of the quote ascii formatting. If there is enough time later, regex the ascii code out. "
   ]
  },
  {
   "cell_type": "markdown",
   "metadata": {},
   "source": [
    "## Split"
   ]
  },
  {
   "cell_type": "code",
   "execution_count": null,
   "metadata": {},
   "outputs": [],
   "source": [
    "# set random state for repeatability\n",
    "train, test = train_test_split(df, random_state=123)"
   ]
  },
  {
   "cell_type": "markdown",
   "metadata": {},
   "source": [
    "Separate features and target. The geek_rating (which is used to establish rank) is used as the target value. The rank, avg_rating, and num_votes are all dropped from the X_train/test, as well, as they are not instrinic parameters of the game. "
   ]
  },
  {
   "cell_type": "code",
   "execution_count": null,
   "metadata": {},
   "outputs": [],
   "source": [
    "X_train = train.drop(columns = [\"rank\", \"avg_rating\", \"geek_rating\", \"num_votes\"])\n",
    "y_train = train[[\"geek_rating\"]]\n",
    "X_test = test.drop(columns = [\"rank\", \"avg_rating\", \"geek_rating\", \"num_votes\"])\n",
    "y_test = test[[\"geek_rating\"]]"
   ]
  },
  {
   "cell_type": "markdown",
   "metadata": {},
   "source": [
    "## Model 1 - numeric values only"
   ]
  },
  {
   "cell_type": "code",
   "execution_count": null,
   "metadata": {},
   "outputs": [],
   "source": [
    "# model and evaluate \n",
    "lm = model.linear_model_and_eval(X_train, y_train)"
   ]
  },
  {
   "cell_type": "markdown",
   "metadata": {},
   "source": [
    "> This model is terrible. Adding in categories, mechanics, and designers should increase performance. "
   ]
  },
  {
   "cell_type": "markdown",
   "metadata": {},
   "source": [
    "## Model 2 - include categories only"
   ]
  },
  {
   "cell_type": "code",
   "execution_count": null,
   "metadata": {},
   "outputs": [],
   "source": [
    "# create of list of the top twenty categories\n",
    "cat_list = list(cat_count.head(20).index)"
   ]
  },
  {
   "cell_type": "code",
   "execution_count": null,
   "metadata": {},
   "outputs": [],
   "source": [
    "# convert categories to binary matrix and merge into df\n",
    "mlb = MultiLabelBinarizer()\n",
    "\n",
    "X_train_cat = X_train.join(pd.DataFrame(mlb.fit_transform(X_train.category), \n",
    "                                        columns=mlb.classes_, \n",
    "                                        index=X_train.index)[cat_list])\n",
    "\n",
    "X_test_cat = X_test.join(pd.DataFrame(mlb.fit_transform(X_test.category), \n",
    "                                        columns=mlb.classes_, \n",
    "                                        index=X_test.index)[cat_list])"
   ]
  },
  {
   "cell_type": "code",
   "execution_count": null,
   "metadata": {},
   "outputs": [],
   "source": [
    "# model and evaluate \n",
    "lm = model.linear_model_and_eval(X_train_cat, y_train)"
   ]
  },
  {
   "cell_type": "markdown",
   "metadata": {},
   "source": [
    "> This model is still terrible, but it indeed performed a little better"
   ]
  },
  {
   "cell_type": "markdown",
   "metadata": {},
   "source": [
    "## Model 3 - include mechanics only"
   ]
  },
  {
   "cell_type": "code",
   "execution_count": null,
   "metadata": {},
   "outputs": [],
   "source": [
    "# create of list of the top twenty mechanics\n",
    "mech_list = list(mech_count.head(20).index)"
   ]
  },
  {
   "cell_type": "code",
   "execution_count": null,
   "metadata": {},
   "outputs": [],
   "source": [
    "# convert mechanics to binary matrix and merge into df\n",
    "mlb = MultiLabelBinarizer()\n",
    "X_train_mech = X_train.join(pd.DataFrame(mlb.fit_transform(X_train.mechanic),\n",
    "                                         columns=mlb.classes_,\n",
    "                                         index=X_train.index)[mech_list])\n",
    "\n",
    "X_test_mech = X_test.join(pd.DataFrame(mlb.fit_transform(X_test.mechanic), \n",
    "                                        columns=mlb.classes_, \n",
    "                                        index=X_test.index)[mech_list])"
   ]
  },
  {
   "cell_type": "code",
   "execution_count": null,
   "metadata": {},
   "outputs": [],
   "source": [
    "# model and evaluate \n",
    "lm = model.linear_model_and_eval(X_train_mech, y_train)"
   ]
  },
  {
   "cell_type": "markdown",
   "metadata": {},
   "source": [
    "> And this model got a little better"
   ]
  },
  {
   "cell_type": "markdown",
   "metadata": {},
   "source": [
    "## Model 4 - include designers only"
   ]
  },
  {
   "cell_type": "code",
   "execution_count": null,
   "metadata": {},
   "outputs": [],
   "source": [
    "# create of list of the top twenty mechanics\n",
    "des_list = list(des_count.head(10).index)"
   ]
  },
  {
   "cell_type": "code",
   "execution_count": null,
   "metadata": {},
   "outputs": [],
   "source": [
    "# convert designers to binary matrix and merge into df\n",
    "mlb = MultiLabelBinarizer()\n",
    "X_train_des = X_train.join(pd.DataFrame(mlb.fit_transform(X_train.designer),\n",
    "                          columns=mlb.classes_,\n",
    "                          index=X_train.index)[des_list])\n",
    "\n",
    "X_test_des = X_test.join(pd.DataFrame(mlb.fit_transform(X_test.designer),\n",
    "                          columns=mlb.classes_,\n",
    "                          index=X_test.index)[des_list])"
   ]
  },
  {
   "cell_type": "code",
   "execution_count": null,
   "metadata": {},
   "outputs": [],
   "source": [
    "# model and evaluate \n",
    "lm = model.linear_model_and_eval(X_train_des, y_train)"
   ]
  },
  {
   "cell_type": "markdown",
   "metadata": {},
   "source": [
    "> Didn't perform as well as the mechanics"
   ]
  },
  {
   "cell_type": "markdown",
   "metadata": {},
   "source": [
    "## Model 5 - categories and mechanics"
   ]
  },
  {
   "cell_type": "code",
   "execution_count": null,
   "metadata": {},
   "outputs": [],
   "source": [
    "# combine categories and mechanics  \n",
    "X_train_cat_mech = X_train_cat.join(pd.DataFrame(mlb.fit_transform(X_train.mechanic),\n",
    "                                                 columns=mlb.classes_,\n",
    "                                                 index=X_train.index)[mech_list])\n",
    "\n",
    "X_test_cat_mech = X_test_cat.join(pd.DataFrame(mlb.fit_transform(X_test.mechanic),\n",
    "                                                 columns=mlb.classes_,\n",
    "                                                 index=X_test.index)[mech_list])"
   ]
  },
  {
   "cell_type": "code",
   "execution_count": null,
   "metadata": {},
   "outputs": [],
   "source": [
    "# model and evaluate \n",
    "lm = model.linear_model_and_eval(X_train_cat_mech, y_train)"
   ]
  },
  {
   "cell_type": "markdown",
   "metadata": {},
   "source": [
    "> This improved the stand-alone category and mechanics model. "
   ]
  },
  {
   "cell_type": "markdown",
   "metadata": {},
   "source": [
    "## Model 6 - catergories and mechanics and designers"
   ]
  },
  {
   "cell_type": "code",
   "execution_count": null,
   "metadata": {},
   "outputs": [],
   "source": [
    "# combine categories and mechanics and designer\n",
    "X_train_cat_mech_des = X_train_cat_mech.join(pd.DataFrame(mlb.fit_transform(X_train.designer),\n",
    "                                                 columns=mlb.classes_,\n",
    "                                                 index=X_train.index)[des_list])\n",
    "\n",
    "X_test_cat_mech_des = X_test_cat_mech.join(pd.DataFrame(mlb.fit_transform(X_test.designer),\n",
    "                                                 columns=mlb.classes_,\n",
    "                                                 index=X_test.index)[des_list])"
   ]
  },
  {
   "cell_type": "code",
   "execution_count": null,
   "metadata": {},
   "outputs": [],
   "source": [
    "# model and evaluate \n",
    "lm = model.linear_model_and_eval(X_train_cat_mech_des, y_train)"
   ]
  },
  {
   "cell_type": "markdown",
   "metadata": {},
   "source": [
    "> Anddddd a tiny bit better"
   ]
  },
  {
   "cell_type": "markdown",
   "metadata": {},
   "source": [
    "## Test"
   ]
  },
  {
   "cell_type": "markdown",
   "metadata": {},
   "source": [
    "The model with basic stats, designers, categories, and mechanics performed best. This is selected as the final model and will be test. "
   ]
  },
  {
   "cell_type": "code",
   "execution_count": null,
   "metadata": {},
   "outputs": [],
   "source": [
    "model.test_model_and_eval(lm, X_test_cat_mech_des, y_test)"
   ]
  },
  {
   "cell_type": "markdown",
   "metadata": {},
   "source": [
    "> The model is slightly overfit. "
   ]
  },
  {
   "cell_type": "markdown",
   "metadata": {},
   "source": [
    "## Conclusions"
   ]
  },
  {
   "cell_type": "markdown",
   "metadata": {},
   "source": [
    "- I found designers that I want to check out. \n",
    "- If I ever designed my own game, I'd opt for a two hour game with a slighly higher complexity.\n",
    "- The best model performed with only a r_squared value of 19%. And it was slightly overfit. \n",
    "- Next steps would to remove the ascii code from the descriptions and then model. \n",
    "- Also, with more time, I would change the number of input features for the model, to alleviate some of the overfitting. \n",
    "\n",
    "I enjoyed data sciencing on something that I can highly relate to and look forward to applying data science to more impactful areas."
   ]
  },
  {
   "cell_type": "code",
   "execution_count": null,
   "metadata": {},
   "outputs": [],
   "source": []
  }
 ],
 "metadata": {
  "kernelspec": {
   "display_name": "Python 3",
   "language": "python",
   "name": "python3"
  },
  "language_info": {
   "codemirror_mode": {
    "name": "ipython",
    "version": 3
   },
   "file_extension": ".py",
   "mimetype": "text/x-python",
   "name": "python",
   "nbconvert_exporter": "python",
   "pygments_lexer": "ipython3",
   "version": "3.7.3"
  },
  "toc": {
   "base_numbering": 1,
   "nav_menu": {},
   "number_sections": false,
   "sideBar": true,
   "skip_h1_title": true,
   "title_cell": "Table of Contents",
   "title_sidebar": "Contents",
   "toc_cell": false,
   "toc_position": {},
   "toc_section_display": true,
   "toc_window_display": false
  }
 },
 "nbformat": 4,
 "nbformat_minor": 2
}
